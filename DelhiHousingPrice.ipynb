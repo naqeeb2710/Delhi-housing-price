{
 "cells": [
  {
   "cell_type": "code",
   "execution_count": 2,
   "id": "467b716e",
   "metadata": {},
   "outputs": [],
   "source": [
    "import numpy as np\n",
    "import pandas as pd\n",
    "from matplotlib import pyplot as plt\n",
    "%matplotlib inline \n",
    "import matplotlib\n",
    "matplotlib.rcParams[\"figure.figsize\"]=(20,10)"
   ]
  },
  {
   "cell_type": "code",
   "execution_count": 3,
   "id": "0fc28904",
   "metadata": {},
   "outputs": [
    {
     "data": {
      "text/html": [
       "<div>\n",
       "<style scoped>\n",
       "    .dataframe tbody tr th:only-of-type {\n",
       "        vertical-align: middle;\n",
       "    }\n",
       "\n",
       "    .dataframe tbody tr th {\n",
       "        vertical-align: top;\n",
       "    }\n",
       "\n",
       "    .dataframe thead th {\n",
       "        text-align: right;\n",
       "    }\n",
       "</style>\n",
       "<table border=\"1\" class=\"dataframe\">\n",
       "  <thead>\n",
       "    <tr style=\"text-align: right;\">\n",
       "      <th></th>\n",
       "      <th>Area</th>\n",
       "      <th>BHK</th>\n",
       "      <th>Bathroom</th>\n",
       "      <th>Furnishing</th>\n",
       "      <th>Locality</th>\n",
       "      <th>Parking</th>\n",
       "      <th>Price</th>\n",
       "      <th>Status</th>\n",
       "      <th>Transaction</th>\n",
       "      <th>Type</th>\n",
       "      <th>Per_Sqft</th>\n",
       "    </tr>\n",
       "  </thead>\n",
       "  <tbody>\n",
       "    <tr>\n",
       "      <th>0</th>\n",
       "      <td>800.0</td>\n",
       "      <td>3</td>\n",
       "      <td>2.0</td>\n",
       "      <td>Semi-Furnished</td>\n",
       "      <td>Rohini Sector 25</td>\n",
       "      <td>1.0</td>\n",
       "      <td>6500000</td>\n",
       "      <td>Ready_to_move</td>\n",
       "      <td>New_Property</td>\n",
       "      <td>Builder_Floor</td>\n",
       "      <td>NaN</td>\n",
       "    </tr>\n",
       "    <tr>\n",
       "      <th>1</th>\n",
       "      <td>750.0</td>\n",
       "      <td>2</td>\n",
       "      <td>2.0</td>\n",
       "      <td>Semi-Furnished</td>\n",
       "      <td>J R Designers Floors, Rohini Sector 24</td>\n",
       "      <td>1.0</td>\n",
       "      <td>5000000</td>\n",
       "      <td>Ready_to_move</td>\n",
       "      <td>New_Property</td>\n",
       "      <td>Apartment</td>\n",
       "      <td>6667.0</td>\n",
       "    </tr>\n",
       "    <tr>\n",
       "      <th>2</th>\n",
       "      <td>950.0</td>\n",
       "      <td>2</td>\n",
       "      <td>2.0</td>\n",
       "      <td>Furnished</td>\n",
       "      <td>Citizen Apartment, Rohini Sector 13</td>\n",
       "      <td>1.0</td>\n",
       "      <td>15500000</td>\n",
       "      <td>Ready_to_move</td>\n",
       "      <td>Resale</td>\n",
       "      <td>Apartment</td>\n",
       "      <td>6667.0</td>\n",
       "    </tr>\n",
       "    <tr>\n",
       "      <th>3</th>\n",
       "      <td>600.0</td>\n",
       "      <td>2</td>\n",
       "      <td>2.0</td>\n",
       "      <td>Semi-Furnished</td>\n",
       "      <td>Rohini Sector 24</td>\n",
       "      <td>1.0</td>\n",
       "      <td>4200000</td>\n",
       "      <td>Ready_to_move</td>\n",
       "      <td>Resale</td>\n",
       "      <td>Builder_Floor</td>\n",
       "      <td>6667.0</td>\n",
       "    </tr>\n",
       "    <tr>\n",
       "      <th>4</th>\n",
       "      <td>650.0</td>\n",
       "      <td>2</td>\n",
       "      <td>2.0</td>\n",
       "      <td>Semi-Furnished</td>\n",
       "      <td>Rohini Sector 24 carpet area 650 sqft status R...</td>\n",
       "      <td>1.0</td>\n",
       "      <td>6200000</td>\n",
       "      <td>Ready_to_move</td>\n",
       "      <td>New_Property</td>\n",
       "      <td>Builder_Floor</td>\n",
       "      <td>6667.0</td>\n",
       "    </tr>\n",
       "    <tr>\n",
       "      <th>...</th>\n",
       "      <td>...</td>\n",
       "      <td>...</td>\n",
       "      <td>...</td>\n",
       "      <td>...</td>\n",
       "      <td>...</td>\n",
       "      <td>...</td>\n",
       "      <td>...</td>\n",
       "      <td>...</td>\n",
       "      <td>...</td>\n",
       "      <td>...</td>\n",
       "      <td>...</td>\n",
       "    </tr>\n",
       "    <tr>\n",
       "      <th>1254</th>\n",
       "      <td>4118.0</td>\n",
       "      <td>4</td>\n",
       "      <td>5.0</td>\n",
       "      <td>Unfurnished</td>\n",
       "      <td>Chittaranjan Park</td>\n",
       "      <td>3.0</td>\n",
       "      <td>55000000</td>\n",
       "      <td>Ready_to_move</td>\n",
       "      <td>New_Property</td>\n",
       "      <td>Builder_Floor</td>\n",
       "      <td>12916.0</td>\n",
       "    </tr>\n",
       "    <tr>\n",
       "      <th>1255</th>\n",
       "      <td>1050.0</td>\n",
       "      <td>3</td>\n",
       "      <td>2.0</td>\n",
       "      <td>Semi-Furnished</td>\n",
       "      <td>Chittaranjan Park</td>\n",
       "      <td>3.0</td>\n",
       "      <td>12500000</td>\n",
       "      <td>Ready_to_move</td>\n",
       "      <td>Resale</td>\n",
       "      <td>Builder_Floor</td>\n",
       "      <td>12916.0</td>\n",
       "    </tr>\n",
       "    <tr>\n",
       "      <th>1256</th>\n",
       "      <td>875.0</td>\n",
       "      <td>3</td>\n",
       "      <td>3.0</td>\n",
       "      <td>Semi-Furnished</td>\n",
       "      <td>Chittaranjan Park</td>\n",
       "      <td>3.0</td>\n",
       "      <td>17500000</td>\n",
       "      <td>Ready_to_move</td>\n",
       "      <td>New_Property</td>\n",
       "      <td>Builder_Floor</td>\n",
       "      <td>12916.0</td>\n",
       "    </tr>\n",
       "    <tr>\n",
       "      <th>1257</th>\n",
       "      <td>990.0</td>\n",
       "      <td>2</td>\n",
       "      <td>2.0</td>\n",
       "      <td>Unfurnished</td>\n",
       "      <td>Chittaranjan Park Block A</td>\n",
       "      <td>1.0</td>\n",
       "      <td>11500000</td>\n",
       "      <td>Ready_to_move</td>\n",
       "      <td>Resale</td>\n",
       "      <td>Builder_Floor</td>\n",
       "      <td>12916.0</td>\n",
       "    </tr>\n",
       "    <tr>\n",
       "      <th>1258</th>\n",
       "      <td>11050.0</td>\n",
       "      <td>3</td>\n",
       "      <td>3.0</td>\n",
       "      <td>Unfurnished</td>\n",
       "      <td>Chittaranjan Park</td>\n",
       "      <td>1.0</td>\n",
       "      <td>18500000</td>\n",
       "      <td>Ready_to_move</td>\n",
       "      <td>New_Property</td>\n",
       "      <td>Builder_Floor</td>\n",
       "      <td>12916.0</td>\n",
       "    </tr>\n",
       "  </tbody>\n",
       "</table>\n",
       "<p>1259 rows × 11 columns</p>\n",
       "</div>"
      ],
      "text/plain": [
       "         Area  BHK  Bathroom      Furnishing  \\\n",
       "0       800.0    3       2.0  Semi-Furnished   \n",
       "1       750.0    2       2.0  Semi-Furnished   \n",
       "2       950.0    2       2.0       Furnished   \n",
       "3       600.0    2       2.0  Semi-Furnished   \n",
       "4       650.0    2       2.0  Semi-Furnished   \n",
       "...       ...  ...       ...             ...   \n",
       "1254   4118.0    4       5.0     Unfurnished   \n",
       "1255   1050.0    3       2.0  Semi-Furnished   \n",
       "1256    875.0    3       3.0  Semi-Furnished   \n",
       "1257    990.0    2       2.0     Unfurnished   \n",
       "1258  11050.0    3       3.0     Unfurnished   \n",
       "\n",
       "                                               Locality  Parking     Price  \\\n",
       "0                                      Rohini Sector 25      1.0   6500000   \n",
       "1                J R Designers Floors, Rohini Sector 24      1.0   5000000   \n",
       "2                   Citizen Apartment, Rohini Sector 13      1.0  15500000   \n",
       "3                                      Rohini Sector 24      1.0   4200000   \n",
       "4     Rohini Sector 24 carpet area 650 sqft status R...      1.0   6200000   \n",
       "...                                                 ...      ...       ...   \n",
       "1254                                  Chittaranjan Park      3.0  55000000   \n",
       "1255                                  Chittaranjan Park      3.0  12500000   \n",
       "1256                                  Chittaranjan Park      3.0  17500000   \n",
       "1257                          Chittaranjan Park Block A      1.0  11500000   \n",
       "1258                                  Chittaranjan Park      1.0  18500000   \n",
       "\n",
       "             Status   Transaction           Type  Per_Sqft  \n",
       "0     Ready_to_move  New_Property  Builder_Floor       NaN  \n",
       "1     Ready_to_move  New_Property      Apartment    6667.0  \n",
       "2     Ready_to_move        Resale      Apartment    6667.0  \n",
       "3     Ready_to_move        Resale  Builder_Floor    6667.0  \n",
       "4     Ready_to_move  New_Property  Builder_Floor    6667.0  \n",
       "...             ...           ...            ...       ...  \n",
       "1254  Ready_to_move  New_Property  Builder_Floor   12916.0  \n",
       "1255  Ready_to_move        Resale  Builder_Floor   12916.0  \n",
       "1256  Ready_to_move  New_Property  Builder_Floor   12916.0  \n",
       "1257  Ready_to_move        Resale  Builder_Floor   12916.0  \n",
       "1258  Ready_to_move  New_Property  Builder_Floor   12916.0  \n",
       "\n",
       "[1259 rows x 11 columns]"
      ]
     },
     "execution_count": 3,
     "metadata": {},
     "output_type": "execute_result"
    }
   ],
   "source": [
    "df1=pd.read_csv(\"DelhiProperty.csv\")\n",
    "df1.shape\n",
    "df1"
   ]
  },
  {
   "cell_type": "code",
   "execution_count": 4,
   "id": "3dbfe5a1",
   "metadata": {},
   "outputs": [
    {
     "data": {
      "text/plain": [
       "Furnishing\n",
       "Furnished         183\n",
       "Semi-Furnished    708\n",
       "Unfurnished       363\n",
       "Name: Furnishing, dtype: int64"
      ]
     },
     "execution_count": 4,
     "metadata": {},
     "output_type": "execute_result"
    }
   ],
   "source": [
    "df1.groupby('Furnishing')['Furnishing'].agg('count')"
   ]
  },
  {
   "cell_type": "code",
   "execution_count": 5,
   "id": "47d17e0d",
   "metadata": {},
   "outputs": [
    {
     "data": {
      "text/html": [
       "<div>\n",
       "<style scoped>\n",
       "    .dataframe tbody tr th:only-of-type {\n",
       "        vertical-align: middle;\n",
       "    }\n",
       "\n",
       "    .dataframe tbody tr th {\n",
       "        vertical-align: top;\n",
       "    }\n",
       "\n",
       "    .dataframe thead th {\n",
       "        text-align: right;\n",
       "    }\n",
       "</style>\n",
       "<table border=\"1\" class=\"dataframe\">\n",
       "  <thead>\n",
       "    <tr style=\"text-align: right;\">\n",
       "      <th></th>\n",
       "      <th>Area</th>\n",
       "      <th>BHK</th>\n",
       "      <th>Bathroom</th>\n",
       "      <th>Locality</th>\n",
       "      <th>Price</th>\n",
       "    </tr>\n",
       "  </thead>\n",
       "  <tbody>\n",
       "    <tr>\n",
       "      <th>0</th>\n",
       "      <td>800.0</td>\n",
       "      <td>3</td>\n",
       "      <td>2.0</td>\n",
       "      <td>Rohini Sector 25</td>\n",
       "      <td>6500000</td>\n",
       "    </tr>\n",
       "    <tr>\n",
       "      <th>1</th>\n",
       "      <td>750.0</td>\n",
       "      <td>2</td>\n",
       "      <td>2.0</td>\n",
       "      <td>J R Designers Floors, Rohini Sector 24</td>\n",
       "      <td>5000000</td>\n",
       "    </tr>\n",
       "    <tr>\n",
       "      <th>2</th>\n",
       "      <td>950.0</td>\n",
       "      <td>2</td>\n",
       "      <td>2.0</td>\n",
       "      <td>Citizen Apartment, Rohini Sector 13</td>\n",
       "      <td>15500000</td>\n",
       "    </tr>\n",
       "    <tr>\n",
       "      <th>3</th>\n",
       "      <td>600.0</td>\n",
       "      <td>2</td>\n",
       "      <td>2.0</td>\n",
       "      <td>Rohini Sector 24</td>\n",
       "      <td>4200000</td>\n",
       "    </tr>\n",
       "    <tr>\n",
       "      <th>4</th>\n",
       "      <td>650.0</td>\n",
       "      <td>2</td>\n",
       "      <td>2.0</td>\n",
       "      <td>Rohini Sector 24 carpet area 650 sqft status R...</td>\n",
       "      <td>6200000</td>\n",
       "    </tr>\n",
       "    <tr>\n",
       "      <th>...</th>\n",
       "      <td>...</td>\n",
       "      <td>...</td>\n",
       "      <td>...</td>\n",
       "      <td>...</td>\n",
       "      <td>...</td>\n",
       "    </tr>\n",
       "    <tr>\n",
       "      <th>1254</th>\n",
       "      <td>4118.0</td>\n",
       "      <td>4</td>\n",
       "      <td>5.0</td>\n",
       "      <td>Chittaranjan Park</td>\n",
       "      <td>55000000</td>\n",
       "    </tr>\n",
       "    <tr>\n",
       "      <th>1255</th>\n",
       "      <td>1050.0</td>\n",
       "      <td>3</td>\n",
       "      <td>2.0</td>\n",
       "      <td>Chittaranjan Park</td>\n",
       "      <td>12500000</td>\n",
       "    </tr>\n",
       "    <tr>\n",
       "      <th>1256</th>\n",
       "      <td>875.0</td>\n",
       "      <td>3</td>\n",
       "      <td>3.0</td>\n",
       "      <td>Chittaranjan Park</td>\n",
       "      <td>17500000</td>\n",
       "    </tr>\n",
       "    <tr>\n",
       "      <th>1257</th>\n",
       "      <td>990.0</td>\n",
       "      <td>2</td>\n",
       "      <td>2.0</td>\n",
       "      <td>Chittaranjan Park Block A</td>\n",
       "      <td>11500000</td>\n",
       "    </tr>\n",
       "    <tr>\n",
       "      <th>1258</th>\n",
       "      <td>11050.0</td>\n",
       "      <td>3</td>\n",
       "      <td>3.0</td>\n",
       "      <td>Chittaranjan Park</td>\n",
       "      <td>18500000</td>\n",
       "    </tr>\n",
       "  </tbody>\n",
       "</table>\n",
       "<p>1259 rows × 5 columns</p>\n",
       "</div>"
      ],
      "text/plain": [
       "         Area  BHK  Bathroom  \\\n",
       "0       800.0    3       2.0   \n",
       "1       750.0    2       2.0   \n",
       "2       950.0    2       2.0   \n",
       "3       600.0    2       2.0   \n",
       "4       650.0    2       2.0   \n",
       "...       ...  ...       ...   \n",
       "1254   4118.0    4       5.0   \n",
       "1255   1050.0    3       2.0   \n",
       "1256    875.0    3       3.0   \n",
       "1257    990.0    2       2.0   \n",
       "1258  11050.0    3       3.0   \n",
       "\n",
       "                                               Locality     Price  \n",
       "0                                      Rohini Sector 25   6500000  \n",
       "1                J R Designers Floors, Rohini Sector 24   5000000  \n",
       "2                   Citizen Apartment, Rohini Sector 13  15500000  \n",
       "3                                      Rohini Sector 24   4200000  \n",
       "4     Rohini Sector 24 carpet area 650 sqft status R...   6200000  \n",
       "...                                                 ...       ...  \n",
       "1254                                  Chittaranjan Park  55000000  \n",
       "1255                                  Chittaranjan Park  12500000  \n",
       "1256                                  Chittaranjan Park  17500000  \n",
       "1257                          Chittaranjan Park Block A  11500000  \n",
       "1258                                  Chittaranjan Park  18500000  \n",
       "\n",
       "[1259 rows x 5 columns]"
      ]
     },
     "execution_count": 5,
     "metadata": {},
     "output_type": "execute_result"
    }
   ],
   "source": [
    "df2=df1.drop(['Furnishing','Status','Parking','Transaction','Type','Per_Sqft'],axis='columns')\n",
    "df2"
   ]
  },
  {
   "cell_type": "code",
   "execution_count": 6,
   "id": "9581cbeb",
   "metadata": {},
   "outputs": [
    {
     "data": {
      "text/plain": [
       "Area        0\n",
       "BHK         0\n",
       "Bathroom    2\n",
       "Locality    0\n",
       "Price       0\n",
       "dtype: int64"
      ]
     },
     "execution_count": 6,
     "metadata": {},
     "output_type": "execute_result"
    }
   ],
   "source": [
    "df2.isnull().sum()"
   ]
  },
  {
   "cell_type": "code",
   "execution_count": 7,
   "id": "e922540e",
   "metadata": {},
   "outputs": [
    {
     "data": {
      "text/plain": [
       "Area        0\n",
       "BHK         0\n",
       "Bathroom    0\n",
       "Locality    0\n",
       "Price       0\n",
       "dtype: int64"
      ]
     },
     "execution_count": 7,
     "metadata": {},
     "output_type": "execute_result"
    }
   ],
   "source": [
    "df2=df2.dropna()\n",
    "df2.isnull().sum()"
   ]
  },
  {
   "cell_type": "code",
   "execution_count": 8,
   "id": "de8ade7a",
   "metadata": {},
   "outputs": [],
   "source": [
    "df2.to_csv('newdataset.csv')"
   ]
  },
  {
   "cell_type": "code",
   "execution_count": 9,
   "id": "03789dcf",
   "metadata": {},
   "outputs": [
    {
     "data": {
      "text/plain": [
       "array([ 3,  2,  4,  1,  6,  5,  7, 10])"
      ]
     },
     "execution_count": 9,
     "metadata": {},
     "output_type": "execute_result"
    }
   ],
   "source": [
    "df2['BHK'].unique()"
   ]
  },
  {
   "cell_type": "code",
   "execution_count": 12,
   "id": "c0509a50",
   "metadata": {
    "scrolled": true
   },
   "outputs": [
    {
     "data": {
      "text/plain": [
       "array([  800.    ,   750.    ,   950.    ,   600.    ,   650.    ,\n",
       "        1300.    ,  1350.    ,   985.    ,  1100.    ,   870.    ,\n",
       "         630.    ,   660.    ,   344.4448,   550.    ,  1150.    ,\n",
       "         850.    ,   900.    ,   430.556 ,   914.9315,   500.    ,\n",
       "          28.    ,  2160.    ,  1080.    ,  1450.    ,   810.    ,\n",
       "        1710.    ,  1650.    ,  1280.    ,  1260.    ,  1130.    ,\n",
       "        1500.    ,  1000.    ,  2925.    ,  1600.    ,  1143.    ,\n",
       "        8000.    ,   890.    ,  1387.    ,  1050.    ,  1200.    ,\n",
       "         700.    ,  1700.    ,  1550.    ,  1400.    ,  1900.    ,\n",
       "        1850.    ,  1800.    ,  1620.    ,  1540.    ,  2300.    ,\n",
       "        1560.    ,   400.    ,  1525.    ,  2200.    ,  2880.    ,\n",
       "        2700.    ,  1575.    ,  1675.    ,   825.    ,   875.    ,\n",
       "         450.    ,   100.    ,    75.    ,   270.    ,   444.    ,\n",
       "         729.    ,  4050.    ,  2400.    ,   405.    ,   666.    ,\n",
       "        1360.    ,  2170.    ,   720.    ,  1030.    ,   350.    ,\n",
       "         980.    ,   445.    ,   380.    ,   680.    ,  2500.    ,\n",
       "        2800.    ,   300.    ,  1295.    ,  4688.    ,  3901.    ,\n",
       "         540.    ,   976.    ,  2900.    ,  5025.    ,  1135.    ,\n",
       "        2306.    , 22050.    ,    45.    ,  3510.    ,  4500.    ,\n",
       "        6000.    ,  4300.    ,  2450.    , 10350.    ,  4800.    ,\n",
       "        3500.    ,  2100.    ,  4200.    ,  8150.    ,  2070.    ,\n",
       "        2000.    ,  2550.    ,  7200.    ,  2799.    ,  2650.    ,\n",
       "        1440.    ,  3150.    ,  3690.    ,  2177.    ,  2150.    ,\n",
       "        2107.    ,  1240.    ,  3000.    ,   970.    ,  1425.    ,\n",
       "         440.    ,  1017.    ,   990.    ,   675.    ,   558.    ,\n",
       "         360.    ,   846.    ,   495.1394,  1053.    ,   747.    ,\n",
       "         376.7365,  1125.    ,   713.    ,   504.    ,    70.    ,\n",
       "        2430.    ,  2475.    ,  2970.    ,  2250.    ,  1512.    ,\n",
       "         324.    ,   801.    ,   420.    ,   387.    ,   441.    ,\n",
       "         715.    ,   312.    ,   780.    ,   495.    ,   620.    ,\n",
       "         805.    ,  1001.    ,   585.    ,   765.    ,  1680.    ,\n",
       "        1530.    ,   140.    ,   200.    ,  1782.    ,    66.    ,\n",
       "        1075.    ,  1750.    ,  1184.    ,  1250.    ,    65.    ,\n",
       "        2210.    ,   760.    ,   904.1676,    50.    ,    58.    ,\n",
       "         852.    ,  2600.    ,  2050.    ,  1674.    ,  2025.    ,\n",
       "       24300.    ,  2035.    ,   150.    ,  3250.    ,  4000.    ,\n",
       "        5500.    ,   972.    ,  4150.    ,  2610.    ,   880.    ,\n",
       "        1078.    ,  1818.    ,   807.2925,  2152.78  ,   960.    ,\n",
       "         378.    ,  1580.    ,   820.    ,   594.    , 14220.    ,\n",
       "        1470.    ,  1480.    ,  1214.    ,  1380.    ,  1585.    ,\n",
       "        3050.    ,  3405.    ,  2105.    ,  2090.    ,  2525.    ,\n",
       "        2022.    ,  2552.    ,  3112.    ,  2125.    ,  2065.    ,\n",
       "        1455.    ,  3400.    ,  3100.    ,  2126.    ,  1815.    ,\n",
       "         968.751 ,  1320.    ,  3600.    ,  1305.    ,  1175.    ,\n",
       "         725.    ,  1035.    ,   580.    ,  1170.    ,   855.    ,\n",
       "        1044.0983,   173.    ,   527.    ,   770.    ,   710.    ,\n",
       "         945.    ,   565.    ,   430.    ,   459.    ,   559.7228,\n",
       "         365.    ,   390.    ,   210.    ,   379.    ,   236.8058,\n",
       "         452.0838,   437.    ,    61.    ,   198.    ,  4900.    ,\n",
       "        2077.4327,   425.    ,  2750.    ,  2316.    ,  1290.    ,\n",
       "        1076.39  ,   460.    ,   370.    ,   975.    ,  1459.    ,\n",
       "        1460.    ,   979.5149,  1531.    ,    35.    ,  2907.    ,\n",
       "        2518.7526,   588.    ,  1775.    ,  1252.    ,   530.    ,\n",
       "        1332.    ,   987.    ,  1912.    ,  5236.    ,  2805.    ,\n",
       "         576.    ,  1206.    ,   345.    ,   468.    ,   535.    ,\n",
       "        1501.    ,  3002.    ,  1429.    ,  1646.    ,  1590.    ,\n",
       "        2282.    ,  1457.    ,  2175.    ,   861.112 ,  1753.    ,\n",
       "        2659.    ,   702.    ,  1138.    ,  1291.668 ,  2592.    ,\n",
       "        1640.    ,  2572.    ,  2445.    ,  5220.    ,  4455.    ,\n",
       "         195.    , 17010.    ,  2340.    ,   464.    ,   954.    ,\n",
       "        1155.    ,  1485.    ,  1070.    ,  2520.    ,  2066.    ,\n",
       "        6500.    ,  4350.    ,  1980.    ,  5400.    ,  2097.    ,\n",
       "        1116.    ,  2625.    ,   125.    ,  4118.    , 11050.    ])"
      ]
     },
     "execution_count": 12,
     "metadata": {},
     "output_type": "execute_result"
    }
   ],
   "source": [
    "df2.Area.unique()"
   ]
  },
  {
   "cell_type": "code",
   "execution_count": 15,
   "id": "d05d519e",
   "metadata": {},
   "outputs": [
    {
     "name": "stderr",
     "output_type": "stream",
     "text": [
      "/home/naqeeb/miniconda3/envs/p3.7/lib/python3.7/site-packages/ipykernel_launcher.py:1: SettingWithCopyWarning: \n",
      "A value is trying to be set on a copy of a slice from a DataFrame.\n",
      "Try using .loc[row_indexer,col_indexer] = value instead\n",
      "\n",
      "See the caveats in the documentation: https://pandas.pydata.org/pandas-docs/stable/user_guide/indexing.html#returning-a-view-versus-a-copy\n",
      "  \"\"\"Entry point for launching an IPython kernel.\n"
     ]
    },
    {
     "data": {
      "text/html": [
       "<div>\n",
       "<style scoped>\n",
       "    .dataframe tbody tr th:only-of-type {\n",
       "        vertical-align: middle;\n",
       "    }\n",
       "\n",
       "    .dataframe tbody tr th {\n",
       "        vertical-align: top;\n",
       "    }\n",
       "\n",
       "    .dataframe thead th {\n",
       "        text-align: right;\n",
       "    }\n",
       "</style>\n",
       "<table border=\"1\" class=\"dataframe\">\n",
       "  <thead>\n",
       "    <tr style=\"text-align: right;\">\n",
       "      <th></th>\n",
       "      <th>Area</th>\n",
       "      <th>BHK</th>\n",
       "      <th>Bathroom</th>\n",
       "      <th>Locality</th>\n",
       "      <th>Price</th>\n",
       "      <th>Price_per_sqft</th>\n",
       "    </tr>\n",
       "  </thead>\n",
       "  <tbody>\n",
       "    <tr>\n",
       "      <th>0</th>\n",
       "      <td>800.0</td>\n",
       "      <td>3</td>\n",
       "      <td>2.0</td>\n",
       "      <td>Rohini Sector 25</td>\n",
       "      <td>6500000</td>\n",
       "      <td>8125.000000</td>\n",
       "    </tr>\n",
       "    <tr>\n",
       "      <th>1</th>\n",
       "      <td>750.0</td>\n",
       "      <td>2</td>\n",
       "      <td>2.0</td>\n",
       "      <td>J R Designers Floors, Rohini Sector 24</td>\n",
       "      <td>5000000</td>\n",
       "      <td>6666.666667</td>\n",
       "    </tr>\n",
       "    <tr>\n",
       "      <th>2</th>\n",
       "      <td>950.0</td>\n",
       "      <td>2</td>\n",
       "      <td>2.0</td>\n",
       "      <td>Citizen Apartment, Rohini Sector 13</td>\n",
       "      <td>15500000</td>\n",
       "      <td>16315.789474</td>\n",
       "    </tr>\n",
       "    <tr>\n",
       "      <th>3</th>\n",
       "      <td>600.0</td>\n",
       "      <td>2</td>\n",
       "      <td>2.0</td>\n",
       "      <td>Rohini Sector 24</td>\n",
       "      <td>4200000</td>\n",
       "      <td>7000.000000</td>\n",
       "    </tr>\n",
       "    <tr>\n",
       "      <th>4</th>\n",
       "      <td>650.0</td>\n",
       "      <td>2</td>\n",
       "      <td>2.0</td>\n",
       "      <td>Rohini Sector 24 carpet area 650 sqft status R...</td>\n",
       "      <td>6200000</td>\n",
       "      <td>9538.461538</td>\n",
       "    </tr>\n",
       "  </tbody>\n",
       "</table>\n",
       "</div>"
      ],
      "text/plain": [
       "    Area  BHK  Bathroom                                           Locality  \\\n",
       "0  800.0    3       2.0                                   Rohini Sector 25   \n",
       "1  750.0    2       2.0             J R Designers Floors, Rohini Sector 24   \n",
       "2  950.0    2       2.0                Citizen Apartment, Rohini Sector 13   \n",
       "3  600.0    2       2.0                                   Rohini Sector 24   \n",
       "4  650.0    2       2.0  Rohini Sector 24 carpet area 650 sqft status R...   \n",
       "\n",
       "      Price  Price_per_sqft  \n",
       "0   6500000     8125.000000  \n",
       "1   5000000     6666.666667  \n",
       "2  15500000    16315.789474  \n",
       "3   4200000     7000.000000  \n",
       "4   6200000     9538.461538  "
      ]
     },
     "execution_count": 15,
     "metadata": {},
     "output_type": "execute_result"
    }
   ],
   "source": [
    "df2['Price_per_sqft']=df2['Price']/df2['Area']\n",
    "df2.head()"
   ]
  },
  {
   "cell_type": "code",
   "execution_count": 18,
   "id": "c52b9bd8",
   "metadata": {},
   "outputs": [
    {
     "data": {
      "text/plain": [
       "365"
      ]
     },
     "execution_count": 18,
     "metadata": {},
     "output_type": "execute_result"
    }
   ],
   "source": [
    "len(df2.Locality.unique())"
   ]
  },
  {
   "cell_type": "code",
   "execution_count": 35,
   "id": "b89c2e2e",
   "metadata": {},
   "outputs": [
    {
     "data": {
      "text/plain": [
       "Locality\n",
       "other                                                     404\n",
       "Lajpat Nagar 3                                             34\n",
       "J R Designers Floors, Rohini Sector 24                     31\n",
       "Lajpat Nagar 2                                             31\n",
       "Kailash Colony, Greater Kailash                            30\n",
       "                                                         ... \n",
       "Rohini Sector 25                                            4\n",
       "MTNL Employees House Welfare Society, Dwarka Sector 24      4\n",
       "Rohini Sector 20                                            4\n",
       "Punjabi Bagh Extension, Punjabi Bagh                        4\n",
       "Manglapuri, Sultanpur                                       4\n",
       "Name: Locality, Length: 82, dtype: int64"
      ]
     },
     "execution_count": 35,
     "metadata": {},
     "output_type": "execute_result"
    }
   ],
   "source": [
    "df2.Locality=df2.Locality.apply(lambda x: x.strip())\n",
    "location_stats=df2.groupby('Locality')['Locality'].agg('count').sort_values(ascending=False)\n",
    "location_stats"
   ]
  },
  {
   "cell_type": "code",
   "execution_count": 36,
   "id": "8259bc93",
   "metadata": {},
   "outputs": [
    {
     "data": {
      "text/plain": [
       "0"
      ]
     },
     "execution_count": 36,
     "metadata": {},
     "output_type": "execute_result"
    }
   ],
   "source": [
    "len(location_stats[location_stats<=2])"
   ]
  },
  {
   "cell_type": "code",
   "execution_count": 37,
   "id": "6d72ff98",
   "metadata": {},
   "outputs": [
    {
     "data": {
      "text/plain": [
       "Series([], Name: Locality, dtype: int64)"
      ]
     },
     "execution_count": 37,
     "metadata": {},
     "output_type": "execute_result"
    }
   ],
   "source": [
    "location_lessthan2=location_stats[location_stats<=2]\n",
    "location_lessthan2"
   ]
  },
  {
   "cell_type": "code",
   "execution_count": 38,
   "id": "03e1fbde",
   "metadata": {},
   "outputs": [
    {
     "data": {
      "text/plain": [
       "82"
      ]
     },
     "execution_count": 38,
     "metadata": {},
     "output_type": "execute_result"
    }
   ],
   "source": [
    "df2.Locality=df2.Locality.apply(lambda x: 'other' if x in location_lessthan2 else x)\n",
    "len(df2.Locality.unique())"
   ]
  },
  {
   "cell_type": "code",
   "execution_count": 39,
   "id": "ddeb4c76",
   "metadata": {},
   "outputs": [
    {
     "data": {
      "text/html": [
       "<div>\n",
       "<style scoped>\n",
       "    .dataframe tbody tr th:only-of-type {\n",
       "        vertical-align: middle;\n",
       "    }\n",
       "\n",
       "    .dataframe tbody tr th {\n",
       "        vertical-align: top;\n",
       "    }\n",
       "\n",
       "    .dataframe thead th {\n",
       "        text-align: right;\n",
       "    }\n",
       "</style>\n",
       "<table border=\"1\" class=\"dataframe\">\n",
       "  <thead>\n",
       "    <tr style=\"text-align: right;\">\n",
       "      <th></th>\n",
       "      <th>Area</th>\n",
       "      <th>BHK</th>\n",
       "      <th>Bathroom</th>\n",
       "      <th>Locality</th>\n",
       "      <th>Price</th>\n",
       "      <th>Price_per_sqft</th>\n",
       "    </tr>\n",
       "  </thead>\n",
       "  <tbody>\n",
       "    <tr>\n",
       "      <th>0</th>\n",
       "      <td>800.0</td>\n",
       "      <td>3</td>\n",
       "      <td>2.0</td>\n",
       "      <td>Rohini Sector 25</td>\n",
       "      <td>6500000</td>\n",
       "      <td>8125.000000</td>\n",
       "    </tr>\n",
       "    <tr>\n",
       "      <th>1</th>\n",
       "      <td>750.0</td>\n",
       "      <td>2</td>\n",
       "      <td>2.0</td>\n",
       "      <td>J R Designers Floors, Rohini Sector 24</td>\n",
       "      <td>5000000</td>\n",
       "      <td>6666.666667</td>\n",
       "    </tr>\n",
       "    <tr>\n",
       "      <th>2</th>\n",
       "      <td>950.0</td>\n",
       "      <td>2</td>\n",
       "      <td>2.0</td>\n",
       "      <td>other</td>\n",
       "      <td>15500000</td>\n",
       "      <td>16315.789474</td>\n",
       "    </tr>\n",
       "    <tr>\n",
       "      <th>3</th>\n",
       "      <td>600.0</td>\n",
       "      <td>2</td>\n",
       "      <td>2.0</td>\n",
       "      <td>Rohini Sector 24</td>\n",
       "      <td>4200000</td>\n",
       "      <td>7000.000000</td>\n",
       "    </tr>\n",
       "    <tr>\n",
       "      <th>4</th>\n",
       "      <td>650.0</td>\n",
       "      <td>2</td>\n",
       "      <td>2.0</td>\n",
       "      <td>other</td>\n",
       "      <td>6200000</td>\n",
       "      <td>9538.461538</td>\n",
       "    </tr>\n",
       "  </tbody>\n",
       "</table>\n",
       "</div>"
      ],
      "text/plain": [
       "    Area  BHK  Bathroom                                Locality     Price  \\\n",
       "0  800.0    3       2.0                        Rohini Sector 25   6500000   \n",
       "1  750.0    2       2.0  J R Designers Floors, Rohini Sector 24   5000000   \n",
       "2  950.0    2       2.0                                   other  15500000   \n",
       "3  600.0    2       2.0                        Rohini Sector 24   4200000   \n",
       "4  650.0    2       2.0                                   other   6200000   \n",
       "\n",
       "   Price_per_sqft  \n",
       "0     8125.000000  \n",
       "1     6666.666667  \n",
       "2    16315.789474  \n",
       "3     7000.000000  \n",
       "4     9538.461538  "
      ]
     },
     "execution_count": 39,
     "metadata": {},
     "output_type": "execute_result"
    }
   ],
   "source": [
    "df2.head()"
   ]
  },
  {
   "cell_type": "code",
   "execution_count": null,
   "id": "2084c1af",
   "metadata": {},
   "outputs": [],
   "source": []
  }
 ],
 "metadata": {
  "kernelspec": {
   "display_name": "Python 3 (ipykernel)",
   "language": "python",
   "name": "python3"
  },
  "language_info": {
   "codemirror_mode": {
    "name": "ipython",
    "version": 3
   },
   "file_extension": ".py",
   "mimetype": "text/x-python",
   "name": "python",
   "nbconvert_exporter": "python",
   "pygments_lexer": "ipython3",
   "version": "3.7.15"
  }
 },
 "nbformat": 4,
 "nbformat_minor": 5
}
